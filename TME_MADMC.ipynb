{
 "cells": [
  {
   "cell_type": "code",
   "execution_count": 3,
   "metadata": {},
   "outputs": [],
   "source": [
    "import numpy as np\n",
    "import matplotlib.pyplot as plt\n",
    "import math\n",
    "import random\n",
    "import time\n",
    "from operator import add"
   ]
  },
  {
   "cell_type": "code",
   "execution_count": 4,
   "metadata": {},
   "outputs": [
    {
     "name": "stdout",
     "output_type": "stream",
     "text": [
      "100 26856 [394, 911, 768, 477, 513, 636, 607, 138, 401, 998, 839, 637, 972, 527, 891, 807, 949, 193, 349, 458, 970, 267, 760, 532, 931, 285, 354, 440, 331, 351, 589, 440, 814, 483, 920, 641, 281, 447, 276, 170, 126, 984, 383, 294, 245, 126, 745, 53, 240, 656, 759, 520, 205, 573, 158, 890, 55, 5, 181, 913, 552, 687, 757, 577, 629, 833, 831, 903, 497, 889, 248, 700, 232, 224, 971, 719, 592, 337, 4, 833, 483, 712, 41, 674, 185, 730, 203, 653, 88, 686, 362, 666, 289, 984, 332, 958, 699, 384, 916, 793]\n"
     ]
    }
   ],
   "source": [
    "def LectureInstance(nomFichier):\n",
    "    f = open(nomFichier, \"r\")\n",
    "    w = []\n",
    "    v1 = []\n",
    "    v2 = []\n",
    "    for line in f:\n",
    "        if line[0] == 'n':\n",
    "            n = int(line[1:])\n",
    "            \n",
    "        if line[0] == 'i':\n",
    "            line_splited = line.split()\n",
    "            w.append(int(line_splited[1]))\n",
    "            v1.append(int(line_splited[2]))\n",
    "            v2.append(int(line_splited[3]))\n",
    "            \n",
    "        if line[0] == 'W':\n",
    "            W = int(line[1:])\n",
    "            \n",
    "    return (n, W, w, v1, v2)\n",
    "            \n",
    "            \n",
    "n, W, w, v1, v2 = LectureInstance(\"InstancesMOKP/100_items/2KP100-TA-0.dat\")\n",
    "print(n,W,w)"
   ]
  },
  {
   "cell_type": "code",
   "execution_count": 5,
   "metadata": {},
   "outputs": [],
   "source": [
    "def LecturePtsNonDom(nomFichier):\n",
    "    f = open(nomFichier, \"r\")\n",
    "    NonDom = []\n",
    "    for line in f:\n",
    "        line_splited = line.split()\n",
    "        NonDom.append((int(line_splited[0]), int(line_splited[1])))           \n",
    "    return NonDom\n",
    "                   \n",
    "NonDom = LecturePtsNonDom(\"InstancesMOKP/100_items/2KP100-TA-0.eff\")"
   ]
  },
  {
   "cell_type": "code",
   "execution_count": 6,
   "metadata": {},
   "outputs": [
    {
     "data": {
      "image/png": "[encoded data removed]",
      "text/plain": [
       "<Figure size 432x288 with 1 Axes>"
      ]
     },
     "metadata": {
      "needs_background": "light"
     },
     "output_type": "display_data"
    }
   ],
   "source": [
    "def DrawNonDom(NonDom):\n",
    "    plt.scatter(*zip(*NonDom))\n",
    "    plt.show()\n",
    "    \n",
    "DrawNonDom(NonDom)"
   ]
  },
  {
   "cell_type": "code",
   "execution_count": 7,
   "metadata": {},
   "outputs": [
    {
     "name": "stdout",
     "output_type": "stream",
     "text": [
      "605.1764642536623\n"
     ]
    }
   ],
   "source": [
    "def PYN(YnHat, NonDom):\n",
    "    \"\"\"YnHat une approximation et NonDom la réalité\"\"\"\n",
    "    return len(set(YnHat)&set(NonDom))/len(NonDom)\n",
    "\n",
    "def pk(NonDom):\n",
    "    \"\"\"Renvoie les poids p1 et p2\"\"\"\n",
    "    # ON EST EN MAXIMISATION !!!!\n",
    "    y1ptIdeal = max([NonDom[i][0] for i in range(len(NonDom))])\n",
    "    y2ptIdeal = max([NonDom[i][1] for i in range(len(NonDom))])\n",
    "    y1ptNadir = min([NonDom[i][0] for i in range(len(NonDom))])\n",
    "    y2ptNadir = min([NonDom[i][1] for i in range(len(NonDom))])\n",
    "    \n",
    "    return (1/(y1ptIdeal-y1ptNadir), 1/(y2ptIdeal-y2ptNadir))\n",
    "\n",
    "def d(pt1, pt2, NonDom):\n",
    "    \"\"\"Renvoie la distance euclidienne pondérée entre les points pt1 et pt2\"\"\"\n",
    "    p1, p2 = pk(NonDom)\n",
    "    res = p1*(pt1[0]-pt2[0])**2 + p2*(pt1[1]-pt2[1])**2\n",
    "    return math.sqrt(res)\n",
    "\n",
    "def dPrime(YnHat, pt1, NonDom):\n",
    "    \"\"\"Renvoie dPrime de YnHat et pt1\"\"\"\n",
    "    return min(d(pt2,pt1,NonDom) for pt2 in YnHat)\n",
    "\n",
    "def DM(YnHat, NonDom):\n",
    "    \"\"\"YnHat une approximation et NonDom la réalité\"\"\"\n",
    "    return sum(dPrime(YnHat, pt1, NonDom) for pt1 in NonDom)/len(NonDom)\n",
    " \n",
    "    \n",
    "print(DM([(0,0),(10,20)],NonDom))"
   ]
  },
  {
   "cell_type": "code",
   "execution_count": 8,
   "metadata": {
    "scrolled": true
   },
   "outputs": [],
   "source": [
    "def popInitiale(W,w):\n",
    "    Wtemp = W\n",
    "    n = len(w)\n",
    "    Lsol = [0 for i in range(n)]\n",
    "    tupled = list(zip( w,range(n)))\n",
    "    sortedByValue = sorted(tupled, key=lambda tup: tup[0])\n",
    "    possibleObject = [(x,y) for x,y in sortedByValue if x<=W]\n",
    "    while len(possibleObject)>0:\n",
    "        r=random.randint(0,len(possibleObject)-1)\n",
    "        Lsol[possibleObject[r][1]]=1\n",
    "        Wtemp-=possibleObject[r][0]\n",
    "        possibleObject.pop(r)\n",
    "        possibleObject=[(x,y) for x,y in possibleObject if x<=Wtemp]\n",
    "    return [Lsol]\n",
    "    \n",
    "    \n",
    "def somme(N,w):\n",
    "    somme=0\n",
    "    for k in range(len(N)):\n",
    "        if(N[k]==1):\n",
    "            somme+=w[k]\n",
    "    return somme\n",
    "\n",
    "def f(x):\n",
    "    return (sum(v1[i]*x[i] for i in range(len(x))),sum(v2[i]*x[i] for i in range(len(x))))\n",
    "\n",
    "def non_domine(a, b):\n",
    "    f_a=f(a)\n",
    "    f_b=f(b)\n",
    "#     print(\"domine\",f_a,f_b,((f_a[0]< f_b[0] and f_a[1]<=f_b[1]) or (f_a[0]<= f_b[0] and f_a[1]<f_b[1])))\n",
    "    return not ((f_a[0]< f_b[0] and f_a[1]<=f_b[1]) or (f_a[0]<= f_b[0] and f_a[1]<f_b[1]))\n",
    "\n",
    "def domine(a, b):\n",
    "    f_a=f(a)\n",
    "    f_b=f(b)\n",
    "    return (f_a[0]>= f_b[0] and f_a[1]>=f_b[1]) \n",
    "\n",
    "\n",
    "def MiseAJour(X, x):\n",
    "    \"\"\"Mise à jour de la liste X en cherchant à ajouter potentiellement x\n",
    "    Cette procédure renverra un booléan égal à Vrai si la solution a été ajoutée dans la liste\"\"\"\n",
    "    l = []\n",
    "    for sol in X:\n",
    "        if domine(sol,x):\n",
    "            return False\n",
    "        elif domine(x,sol):\n",
    "            l.append(sol) \n",
    "            \n",
    "    for y in l:\n",
    "        X.remove(y)\n",
    "        \n",
    "    X.append(x)\n",
    "    return True\n",
    "\n",
    "def Voisin(x, W, w): \n",
    "    n = len(x)\n",
    "    N = []\n",
    "    Wrestant = W - sum(w[i]*x[i] for i in range(len(x))) \n",
    "    for i in range(n):\n",
    "        if(x[i]==1):\n",
    "            Wpossible = Wrestant+w[i]\n",
    "            res = x.copy()\n",
    "            listOfPossible = [i for i in range(n) if w[i]<= Wpossible and res[i]==0]\n",
    "            res[i] = 0\n",
    "            for j in listOfPossible:\n",
    "                res2 = res.copy()\n",
    "                res2[j] = 1\n",
    "                Wpossible2 = Wpossible-w[j]\n",
    "                listOfPossible2 = [i for i in range(n) if w[i]<= Wpossible2 and res2[i]==0]\n",
    "                while listOfPossible2 !=[]:\n",
    "                    randomi = listOfPossible2[random.randint(0,len(listOfPossible2)-1)]\n",
    "                    res2[randomi] = 1\n",
    "                    Wpossible2 = Wpossible2-w[randomi]\n",
    "                    listOfPossible2 = [i for i in range(n) if w[i]<= Wpossible2 and res2[i]==0]\n",
    "                N.append(res2)\n",
    "    return N\n",
    "\n",
    "def PLS(W,w , verbose=True):\n",
    "    start = time.time()\n",
    "    P0 = popInitiale(W, w)\n",
    "    Xe = P0.copy()\n",
    "    P = P0.copy()\n",
    "    Pa = []\n",
    "    while P != []:\n",
    "        for p in P:\n",
    "            voisins = Voisin(p, W, w)\n",
    "            for pPrime in voisins:\n",
    "                if non_domine(pPrime, p):\n",
    "                    if MiseAJour(Xe, pPrime):\n",
    "                        MiseAJour(Pa, pPrime)\n",
    "\n",
    "        P = Pa.copy()\n",
    "        Pa = []\n",
    "        if verbose:\n",
    "            print(\"Taille P:{}, time total: {:.2f} s\".format(len(P), time.time()-start))\n",
    "    return Xe"
   ]
  },
  {
   "cell_type": "code",
   "execution_count": 9,
   "metadata": {
    "scrolled": false
   },
   "outputs": [
    {
     "name": "stdout",
     "output_type": "stream",
     "text": [
      "Taille P:6, time total: 0.12 s\n",
      "Taille P:15, time total: 0.64 s\n",
      "Taille P:14, time total: 2.16 s\n",
      "Taille P:21, time total: 3.79 s\n",
      "Taille P:28, time total: 6.24 s\n",
      "Taille P:34, time total: 9.12 s\n",
      "Taille P:33, time total: 17.55 s\n",
      "Taille P:41, time total: 24.43 s\n",
      "Taille P:35, time total: 34.75 s\n",
      "Taille P:35, time total: 42.77 s\n",
      "Taille P:39, time total: 48.38 s\n",
      "Taille P:48, time total: 54.27 s\n",
      "Taille P:48, time total: 61.33 s\n",
      "Taille P:50, time total: 64.84 s\n",
      "Taille P:39, time total: 69.27 s\n",
      "Taille P:34, time total: 72.88 s\n",
      "Taille P:18, time total: 75.89 s\n",
      "Taille P:7, time total: 77.37 s\n",
      "Taille P:0, time total: 77.99 s\n"
     ]
    },
    {
     "data": {
      "image/png": "[encoded data removed]",
      "text/plain": [
       "<Figure size 432x288 with 1 Axes>"
      ]
     },
     "metadata": {
      "needs_background": "light"
     },
     "output_type": "display_data"
    },
    {
     "name": "stdout",
     "output_type": "stream",
     "text": [
      "Proportion 51.2 %\n",
      "Distance moyenne 3.6410681388571007\n"
     ]
    }
   ],
   "source": [
    "Xe = PLS(W, w)\n",
    "\n",
    "ListS = [f(k) for k in Xe]\n",
    "plt.scatter(*zip(*NonDom),c = 'blue',label='exact')\n",
    "plt.scatter(*zip(*ListS),marker = '+',c = 'red',label='approx')\n",
    "plt.legend()\n",
    "plt.show()\n",
    "\n",
    "print(\"Proportion\", PYN(ListS, NonDom)*100,\"%\")\n",
    "print(\"Distance moyenne\", DM(ListS, NonDom))"
   ]
  },
  {
   "cell_type": "code",
   "execution_count": 10,
   "metadata": {},
   "outputs": [],
   "source": [
    "def popInitialeV2( W, w, S):\n",
    "    Wtemp = W\n",
    "    n = len(w)\n",
    "    Lsol = [0 for i in range(n)]\n",
    "    tupled = list(zip(w, range(n), Lsol))\n",
    "    sortedByValue = sorted(tupled, key=lambda tup: tup[0])\n",
    "    possibleObject = [(x,y,z) for x,y,z in sortedByValue if x<=W]\n",
    "    for _ in range((S)):\n",
    "        q = random.uniform(0, 1)\n",
    "        R_i = [(q*v1[i]+(1-q)*v2[i])/w[i] for i in range(n)]\n",
    "        for k in  range(len(possibleObject)):\n",
    "            possibleObject[k]=(possibleObject[k][0],possibleObject[k][1],R_i[possibleObject[k][1]])\n",
    "        r = max(possibleObject,key=lambda item:item[2])\n",
    "        Lsol[r[1]] = 1\n",
    "        Wtemp-= r[0]\n",
    "        possibleObject.remove(r)\n",
    "        possibleObject = [(x,y,z) for x,y,z in possibleObject if x<=Wtemp]\n",
    "        if possibleObject==[]:\n",
    "            break\n",
    "    return [Lsol]\n",
    "\n",
    "def PLSV3(W, w, S , verbose=True):\n",
    "    start = time.time()\n",
    "    P0 = popInitialeV2(W, w, S)\n",
    "    Xe = P0.copy()\n",
    "    P = P0.copy()\n",
    "    Pa = []\n",
    "    while P != []:\n",
    "        for p in P:\n",
    "            voisins = Voisin(p,W,w)\n",
    "            for pPrime in voisins:\n",
    "                if non_domine(pPrime, p):\n",
    "                    if MiseAJour(Xe, pPrime):\n",
    "                        MiseAJour(Pa, pPrime)\n",
    "\n",
    "        P=Pa.copy()\n",
    "        Pa = []\n",
    "        if verbose:\n",
    "            print(\"Taille P:{}, temps total: {:.2f} s\".format(len(P), time.time()-start))\n",
    "    return Xe"
   ]
  },
  {
   "cell_type": "code",
   "execution_count": 11,
   "metadata": {},
   "outputs": [
    {
     "name": "stdout",
     "output_type": "stream",
     "text": [
      "Taille P:15, temps total: 0.61 s\n",
      "Taille P:40, temps total: 2.36 s\n",
      "Taille P:46, temps total: 6.04 s\n",
      "Taille P:29, temps total: 9.17 s\n",
      "Taille P:17, temps total: 11.30 s\n",
      "Taille P:9, temps total: 12.67 s\n",
      "Taille P:7, temps total: 13.39 s\n",
      "Taille P:12, temps total: 14.48 s\n",
      "Taille P:13, temps total: 16.63 s\n",
      "Taille P:8, temps total: 18.41 s\n",
      "Taille P:4, temps total: 21.17 s\n",
      "Taille P:3, temps total: 23.26 s\n",
      "Taille P:0, temps total: 24.70 s\n"
     ]
    },
    {
     "data": {
      "image/png": "[encoded data removed]",
      "text/plain": [
       "<Figure size 432x288 with 1 Axes>"
      ]
     },
     "metadata": {
      "needs_background": "light"
     },
     "output_type": "display_data"
    },
    {
     "name": "stdout",
     "output_type": "stream",
     "text": [
      "Proportion 59.199999999999996 %\n",
      "Distance moyenne 1.4848665486950052\n"
     ]
    }
   ],
   "source": [
    "Xe = PLSV3(W, w, S=60)\n",
    "\n",
    "ListS = [f(k) for k in Xe]\n",
    "plt.scatter(*zip(*NonDom),c = 'blue', label='exact')\n",
    "plt.scatter(*zip(*ListS),marker = '+',c = 'red', label='approx')\n",
    "plt.show()\n",
    "\n",
    "print(\"Proportion\", PYN(ListS, NonDom)*100, \"%\")\n",
    "print(\"Distance moyenne\", DM(ListS, NonDom))"
   ]
  },
  {
   "cell_type": "code",
   "execution_count": 12,
   "metadata": {},
   "outputs": [
    {
     "name": "stdout",
     "output_type": "stream",
     "text": [
      "Taille P:6, temps total: 0.43 s\n",
      "Taille P:13, temps total: 1.08 s\n",
      "Taille P:24, temps total: 2.85 s\n",
      "Taille P:31, temps total: 6.12 s\n",
      "Taille P:33, temps total: 10.78 s\n",
      "Taille P:46, temps total: 16.76 s\n",
      "Taille P:47, temps total: 26.99 s\n",
      "Taille P:43, temps total: 35.82 s\n",
      "Taille P:58, temps total: 46.19 s\n",
      "Taille P:56, temps total: 64.75 s\n",
      "Taille P:57, temps total: 82.21 s\n",
      "Taille P:64, temps total: 96.02 s\n",
      "Taille P:57, temps total: 119.64 s\n",
      "Taille P:47, temps total: 132.08 s\n",
      "Taille P:36, temps total: 141.57 s\n",
      "Taille P:14, temps total: 149.49 s\n",
      "Taille P:4, temps total: 151.99 s\n",
      "Taille P:0, temps total: 152.59 s\n"
     ]
    },
    {
     "data": {
      "image/png": "[encoded data removed]",
      "text/plain": [
       "<Figure size 432x288 with 1 Axes>"
      ]
     },
     "metadata": {
      "needs_background": "light"
     },
     "output_type": "display_data"
    },
    {
     "name": "stdout",
     "output_type": "stream",
     "text": [
      "Proportion 69.6 %\n",
      "Distance moyenne 0.7657303329935867\n"
     ]
    }
   ],
   "source": [
    "Xe = PLSV3(W, w, S=10)\n",
    "\n",
    "ListS = [f(k) for k in Xe]\n",
    "plt.scatter(*zip(*NonDom),c = 'blue', label='exact')\n",
    "plt.scatter(*zip(*ListS),marker = '+',c = 'red', label='approx')\n",
    "plt.show()\n",
    "\n",
    "print(\"Proportion\", PYN(ListS, NonDom)*100, \"%\")\n",
    "print(\"Distance moyenne\", DM(ListS, NonDom))"
   ]
  },
  {
   "cell_type": "code",
   "execution_count": 13,
   "metadata": {
    "scrolled": false
   },
   "outputs": [
    {
     "name": "stdout",
     "output_type": "stream",
     "text": [
      "1\n",
      "Taille P:1, temps total: 0.01 s\n",
      "1\n",
      "Taille P:1, temps total: 0.03 s\n",
      "54\n",
      "Taille P:0, temps total: 4.28 s\n"
     ]
    },
    {
     "data": {
      "image/png": "[encoded data removed]",
      "text/plain": [
       "<Figure size 432x288 with 1 Axes>"
      ]
     },
     "metadata": {
      "needs_background": "light"
     },
     "output_type": "display_data"
    }
   ],
   "source": [
    "def VoisinV2(x, W, w, L):\n",
    "    q = random.uniform(0, 1)\n",
    "    n = len(w)\n",
    "    R_i = [(q*v1[i]+(1-q)*v2[i])/w[i] for i in range(n)]\n",
    "    R_i=list(zip(R_i,range(n)))\n",
    "    sortedByValue = sorted(R_i, key=lambda tup: tup[0])\n",
    "    sortedByValueInv = sorted(R_i, key=lambda tup: tup[0],reverse=True)\n",
    "    l1=[0]*n\n",
    "    l2=[0]*n\n",
    "    cpt=0\n",
    "    cpt2=0\n",
    "    for k in sortedByValue:\n",
    "        if x[k[1]]==1:\n",
    "            cpt+=1\n",
    "            l1[k[1]]=1\n",
    "        if cpt==L:\n",
    "            break\n",
    "    for k in sortedByValueInv:\n",
    "        if x[k[1]]==0:\n",
    "            cpt2+=1\n",
    "            l2[k[1]]=1\n",
    "        if cpt2==L:\n",
    "            break\n",
    "    l3=list( map(add, l1, l2))\n",
    "    NewW= W - sum([w[i]*x[i] for i in range(n) if l1[i]==0])\n",
    "    neww= []\n",
    "\n",
    "    for i in range(n):\n",
    "        if l3[i]==1:\n",
    "            neww.append(w[i])\n",
    "\n",
    "    res = PLSV3(NewW, neww,S=1, verbose=False)\n",
    "    \n",
    "    ListVoisin=[]\n",
    "    for k in res:\n",
    "        temp=[0]*n\n",
    "        cpt=0\n",
    "        for j in range(n):\n",
    "            if l3[j]==1:\n",
    "                temp[j]=k[cpt]\n",
    "                cpt+=1\n",
    "        ListVoisin.append(temp)\n",
    "#     print(\"l3\",ListVoisin[0])    \n",
    "    print(len(ListVoisin))\n",
    "    return ListVoisin\n",
    "    \n",
    "\n",
    "def PLSV4(W, w, S, L):\n",
    "    start = time.time()\n",
    "    P0 = popInitialeV2(W, w, S)\n",
    "    Xe = P0.copy()\n",
    "    P = P0.copy()\n",
    "    Pa = []\n",
    "    while P != []:\n",
    "        for p in P:\n",
    "            voisins = VoisinV2(p, W, w, L)\n",
    "            for pPrime in voisins:\n",
    "                if non_domine(pPrime, p):\n",
    "                    if MiseAJour(Xe, pPrime):\n",
    "                        MiseAJour(Pa, pPrime)\n",
    "\n",
    "        P=Pa.copy()\n",
    "        Pa = []\n",
    "        print(\"Taille P:{}, temps total: {:.2f} s\".format(len(P), time.time()-start))\n",
    "    return Xe\n",
    "\n",
    "Xe = PLSV4(W, w, S=5, L=25)\n",
    "\n",
    "ListS = [f(k) for k in Xe]\n",
    "plt.scatter(*zip(*NonDom),c = 'blue')\n",
    "plt.scatter(*zip(*ListS),marker = '+',c = 'red')\n",
    "plt.show()"
   ]
  }
 ],
 "metadata": {
  "kernelspec": {
   "display_name": "Python 3 (ipykernel)",
   "language": "python",
   "name": "python3"
  },
  "language_info": {
   "codemirror_mode": {
    "name": "ipython",
    "version": 3
   },
   "file_extension": ".py",
   "mimetype": "text/x-python",
   "name": "python",
   "nbconvert_exporter": "python",
   "pygments_lexer": "ipython3",
   "version": "3.9.7"
  }
 },
 "nbformat": 4,
 "nbformat_minor": 2
}
